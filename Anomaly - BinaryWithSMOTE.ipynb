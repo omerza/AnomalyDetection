{
 "cells": [
  {
   "cell_type": "code",
   "execution_count": 1,
   "metadata": {},
   "outputs": [],
   "source": [
    "import glob\n",
    "import pandas as pd"
   ]
  },
  {
   "cell_type": "code",
   "execution_count": 2,
   "metadata": {},
   "outputs": [],
   "source": [
    "from sklearn.model_selection import train_test_split"
   ]
  },
  {
   "cell_type": "code",
   "execution_count": 3,
   "metadata": {},
   "outputs": [
    {
     "name": "stdout",
     "output_type": "stream",
     "text": [
      "C:/Users/inbar&aryeh/Documents/academy/anomaly detection/cic/CSVs\\Friday-WorkingHours-Afternoon-DDos.pcap_ISCX.csv\n"
     ]
    },
    {
     "name": "stderr",
     "output_type": "stream",
     "text": [
      "c:\\python36\\lib\\site-packages\\IPython\\core\\interactiveshell.py:2785: DtypeWarning: Columns (20,21,85) have mixed types. Specify dtype option on import or set low_memory=False.\n",
      "  interactivity=interactivity, compiler=compiler, result=result)\n"
     ]
    },
    {
     "name": "stdout",
     "output_type": "stream",
     "text": [
      "C:/Users/inbar&aryeh/Documents/academy/anomaly detection/cic/CSVs\\Friday-WorkingHours-Afternoon-PortScan.pcap_ISCX.csv\n",
      "C:/Users/inbar&aryeh/Documents/academy/anomaly detection/cic/CSVs\\Friday-WorkingHours-Morning.pcap_ISCX.csv\n",
      "C:/Users/inbar&aryeh/Documents/academy/anomaly detection/cic/CSVs\\Monday-WorkingHours.pcap_ISCX.csv\n"
     ]
    },
    {
     "name": "stderr",
     "output_type": "stream",
     "text": [
      "c:\\python36\\lib\\site-packages\\IPython\\core\\interactiveshell.py:2785: DtypeWarning: Columns (20) have mixed types. Specify dtype option on import or set low_memory=False.\n",
      "  interactivity=interactivity, compiler=compiler, result=result)\n"
     ]
    },
    {
     "name": "stdout",
     "output_type": "stream",
     "text": [
      "C:/Users/inbar&aryeh/Documents/academy/anomaly detection/cic/CSVs\\Thursday-WorkingHours-Afternoon-Infilteration.pcap_ISCX.csv\n"
     ]
    },
    {
     "name": "stderr",
     "output_type": "stream",
     "text": [
      "c:\\python36\\lib\\site-packages\\IPython\\core\\interactiveshell.py:2785: DtypeWarning: Columns (20,21) have mixed types. Specify dtype option on import or set low_memory=False.\n",
      "  interactivity=interactivity, compiler=compiler, result=result)\n"
     ]
    },
    {
     "name": "stdout",
     "output_type": "stream",
     "text": [
      "C:/Users/inbar&aryeh/Documents/academy/anomaly detection/cic/CSVs\\Thursday-WorkingHours-Morning-WebAttacks.pcap_ISCX.csv\n"
     ]
    },
    {
     "name": "stderr",
     "output_type": "stream",
     "text": [
      "c:\\python36\\lib\\site-packages\\IPython\\core\\interactiveshell.py:2785: DtypeWarning: Columns (0,1,3,6,20,21,84) have mixed types. Specify dtype option on import or set low_memory=False.\n",
      "  interactivity=interactivity, compiler=compiler, result=result)\n"
     ]
    },
    {
     "name": "stdout",
     "output_type": "stream",
     "text": [
      "C:/Users/inbar&aryeh/Documents/academy/anomaly detection/cic/CSVs\\Tuesday-WorkingHours.pcap_ISCX.csv\n",
      "C:/Users/inbar&aryeh/Documents/academy/anomaly detection/cic/CSVs\\Wednesday-workingHours.pcap_ISCX.csv\n"
     ]
    },
    {
     "name": "stderr",
     "output_type": "stream",
     "text": [
      "c:\\python36\\lib\\site-packages\\ipykernel_launcher.py:12: FutureWarning: Sorting because non-concatenation axis is not aligned. A future version\n",
      "of pandas will change to not sort by default.\n",
      "\n",
      "To accept the future behavior, pass 'sort=True'.\n",
      "\n",
      "To retain the current behavior and silence the warning, pass sort=False\n",
      "\n",
      "  if sys.path[0] == '':\n"
     ]
    },
    {
     "name": "stdout",
     "output_type": "stream",
     "text": [
      "1029384\n"
     ]
    }
   ],
   "source": [
    "path = 'C:/Users/inbar&aryeh/Documents/academy/anomaly detection/cic/CSVs/' # use your path\n",
    "allFiles = glob.glob(path + \"/*.csv\")\n",
    "frame = pd.DataFrame()\n",
    "list_ = []\n",
    "for file_ in allFiles:\n",
    "    print(file_)\n",
    "    try:\n",
    "        df = pd.read_csv(file_,index_col=None, header=0)\n",
    "    except:\n",
    "        df = pd.read_csv(file_,index_col=None, header=0, encoding = 'latin1')\n",
    "    list_.append(df)\n",
    "frame = pd.concat(list_)\n",
    "counts = frame[' Label'].value_counts()\n",
    "frame = frame.sample(frac=0.33, random_state=42, weights=frame[' Label'].replace(counts))\n",
    "print(len(frame))"
   ]
  },
  {
   "cell_type": "code",
   "execution_count": 4,
   "metadata": {},
   "outputs": [],
   "source": [
    "import numpy as np"
   ]
  },
  {
   "cell_type": "code",
   "execution_count": 5,
   "metadata": {},
   "outputs": [],
   "source": [
    "frame = frame.dropna(how = 'all')"
   ]
  },
  {
   "cell_type": "code",
   "execution_count": 6,
   "metadata": {},
   "outputs": [],
   "source": [
    "frame[' Flow Packets/s'] = frame[' Flow Packets/s'].astype('float64')\n",
    "frame['Flow Bytes/s'] = frame['Flow Bytes/s'].astype('float64')\n",
    "frame = frame.drop(' Timestamp', axis = 1)\n",
    "frame = frame.replace([np.inf, -np.inf], np.nan)"
   ]
  },
  {
   "cell_type": "code",
   "execution_count": 7,
   "metadata": {},
   "outputs": [],
   "source": [
    "#frame = frame.merge(dest_ip_num, left_index = True, right_index = True)\n",
    "#frame = frame.merge(src_ip_num, left_index = True, right_index = True)"
   ]
  },
  {
   "cell_type": "code",
   "execution_count": 8,
   "metadata": {},
   "outputs": [],
   "source": [
    "non_trainable = ['weight', ' weight', 'Flow ID', ' Source IP', ' Destination IP', ' Timestamp', 'External IP', ' Label', 'dest_a','dest_b','dest_c','dest_d','src_a','src_b', 'src_c','src_d']"
   ]
  },
  {
   "cell_type": "code",
   "execution_count": 9,
   "metadata": {},
   "outputs": [
    {
     "name": "stderr",
     "output_type": "stream",
     "text": [
      "Using TensorFlow backend.\n"
     ]
    }
   ],
   "source": [
    "from sklearn.model_selection import train_test_split\n",
    "from keras.utils import to_categorical"
   ]
  },
  {
   "cell_type": "code",
   "execution_count": 10,
   "metadata": {},
   "outputs": [],
   "source": [
    "label_mapping = {val: i for i, val in enumerate(list(frame[' Label'].drop_duplicates()))}\n"
   ]
  },
  {
   "cell_type": "code",
   "execution_count": 11,
   "metadata": {},
   "outputs": [
    {
     "name": "stderr",
     "output_type": "stream",
     "text": [
      "c:\\python36\\lib\\site-packages\\ipykernel_launcher.py:1: FutureWarning: Method .as_matrix will be removed in a future version. Use .values instead.\n",
      "  \"\"\"Entry point for launching an IPython kernel.\n"
     ]
    }
   ],
   "source": [
    "frame_mat = frame[[col for col in frame.columns if col != ' Label' and col not in non_trainable]].as_matrix()\n"
   ]
  },
  {
   "cell_type": "code",
   "execution_count": 12,
   "metadata": {},
   "outputs": [],
   "source": [
    "from sklearn.preprocessing import StandardScaler"
   ]
  },
  {
   "cell_type": "code",
   "execution_count": 13,
   "metadata": {},
   "outputs": [],
   "source": [
    "scaler = StandardScaler()"
   ]
  },
  {
   "cell_type": "markdown",
   "metadata": {},
   "source": [
    "##### Creating binary label"
   ]
  },
  {
   "cell_type": "code",
   "execution_count": 14,
   "metadata": {},
   "outputs": [
    {
     "name": "stderr",
     "output_type": "stream",
     "text": [
      "c:\\python36\\lib\\site-packages\\ipykernel_launcher.py:1: FutureWarning: Method .as_matrix will be removed in a future version. Use .values instead.\n",
      "  \"\"\"Entry point for launching an IPython kernel.\n"
     ]
    }
   ],
   "source": [
    "y_binary = frame[' Label'].apply(lambda val: 1 if val != 'BENIGN' else 0).as_matrix()"
   ]
  },
  {
   "cell_type": "markdown",
   "metadata": {},
   "source": [
    "##### creating timesteps dataset"
   ]
  },
  {
   "cell_type": "code",
   "execution_count": 15,
   "metadata": {},
   "outputs": [
    {
     "name": "stdout",
     "output_type": "stream",
     "text": [
      "3.4914066791534424\n"
     ]
    }
   ],
   "source": [
    "import time\n",
    "start = time.time()\n",
    "X_train, X_test, y_train, y_test = train_test_split(np.nan_to_num(frame_mat), y_binary, test_size=0.2, shuffle=True, random_state=42, stratify=y_binary)\n",
    "print(time.time() - start)"
   ]
  },
  {
   "cell_type": "code",
   "execution_count": null,
   "metadata": {},
   "outputs": [],
   "source": []
  },
  {
   "cell_type": "code",
   "execution_count": 16,
   "metadata": {},
   "outputs": [],
   "source": [
    "seq_length = 2\n",
    "dataX = []\n",
    "dataY = []"
   ]
  },
  {
   "cell_type": "code",
   "execution_count": 17,
   "metadata": {},
   "outputs": [],
   "source": [
    "from imblearn.over_sampling import SMOTE\n",
    "sm = SMOTE(random_state=42)\n",
    "X_res, y_res = sm.fit_sample(np.nan_to_num(X_train), y_train)"
   ]
  },
  {
   "cell_type": "code",
   "execution_count": 18,
   "metadata": {},
   "outputs": [],
   "source": [
    "# dataX = [X_res[i:i + seq_length] for i in range(len(X_res) - seq_length)]\n",
    "# dataY = [y_res[i + seq_length - 1] for i in range(len(X_res) - seq_length)]\n",
    "# data_X_tsteps = np.array(dataX)\n",
    "# data_y_tsteps = np.array(dataY)"
   ]
  },
  {
   "cell_type": "code",
   "execution_count": 19,
   "metadata": {},
   "outputs": [],
   "source": [
    "# testX = [X_test[i:i + seq_length] for i in range(len(X_test) - seq_length)]\n",
    "# testY = [y_test[i + seq_length - 1] for i in range(len(X_test) - seq_length)]\n",
    "# test_X_tsteps = np.array(testX)\n",
    "# test_y_tsteps = np.array(testY)"
   ]
  },
  {
   "cell_type": "code",
   "execution_count": 29,
   "metadata": {},
   "outputs": [],
   "source": [
    "\n",
    "scaled_X_res = X_res.reshape((X_res.shape[0], 1, X_res.shape[1]))\n",
    "scaled_X_test = X_test.reshape((X_test.shape[0], 1, X_test.shape[1]))"
   ]
  },
  {
   "cell_type": "code",
   "execution_count": 30,
   "metadata": {},
   "outputs": [
    {
     "name": "stdout",
     "output_type": "stream",
     "text": [
      "_________________________________________________________________\n",
      "Layer (type)                 Output Shape              Param #   \n",
      "=================================================================\n",
      "lstm_8 (LSTM)                (None, 64)                37120     \n",
      "_________________________________________________________________\n",
      "dense_7 (Dense)              (None, 32)                2080      \n",
      "_________________________________________________________________\n",
      "dense_8 (Dense)              (None, 1)                 33        \n",
      "=================================================================\n",
      "Total params: 39,233\n",
      "Trainable params: 39,233\n",
      "Non-trainable params: 0\n",
      "_________________________________________________________________\n",
      "None\n",
      "Train on 1617194 samples, validate on 20000 samples\n",
      "Epoch 1/100\n",
      " - 68s - loss: 0.1852 - val_loss: 0.2291\n",
      "Epoch 2/100\n",
      " - 61s - loss: 0.1647 - val_loss: 0.2124\n",
      "Epoch 3/100\n",
      " - 61s - loss: 0.1600 - val_loss: 0.2068\n",
      "Epoch 4/100\n",
      " - 61s - loss: 0.1558 - val_loss: 0.1566\n",
      "Epoch 5/100\n",
      " - 63s - loss: 0.1551 - val_loss: 0.1915\n",
      "Epoch 6/100\n",
      " - 61s - loss: 0.1542 - val_loss: 0.1955\n",
      "Epoch 7/100\n",
      " - 61s - loss: 0.1509 - val_loss: 0.1813\n"
     ]
    },
    {
     "data": {
      "image/png": "[encoded data removed]",
      "text/plain": [
       "<Figure size 432x288 with 1 Axes>"
      ]
     },
     "metadata": {},
     "output_type": "display_data"
    }
   ],
   "source": [
    "from keras.callbacks import EarlyStopping\n",
    "from keras.models import Sequential\n",
    "from keras.layers import Dense, Activation\n",
    "from keras.layers import LSTM\n",
    "from matplotlib import pyplot\n",
    "# design network\n",
    "model = Sequential()\n",
    "model.add(LSTM(64 , input_shape=(scaled_X_res.shape[1], scaled_X_res.shape[2])))\n",
    "model.add(Dense(32, activation = 'relu'))\n",
    "#model.add(Dense(32, activation = 'relu'))\n",
    "model.add(Dense(1,  activation='sigmoid'))\n",
    "model.compile(loss='binary_crossentropy', optimizer='adam')\n",
    "print(model.summary())\n",
    "# fit network\n",
    "es = EarlyStopping(monitor='val_loss',\n",
    "                              min_delta=0,\n",
    "                              patience=3,\n",
    "                              verbose=0, mode='auto')\n",
    "history = model.fit(scaled_X_res, y_res, epochs=100, batch_size=72, validation_data=(scaled_X_test[:20000], y_test[:20000]), verbose=2, shuffle=True, callbacks=[es])\n",
    "# plot history\n",
    "pyplot.plot(history.history['loss'], label='train')\n",
    "pyplot.plot(history.history['val_loss'], label='test')\n",
    "pyplot.legend()\n",
    "pyplot.show()"
   ]
  },
  {
   "cell_type": "code",
   "execution_count": 31,
   "metadata": {},
   "outputs": [],
   "source": [
    "pred = model.predict(scaled_X_test)"
   ]
  },
  {
   "cell_type": "code",
   "execution_count": 32,
   "metadata": {},
   "outputs": [
    {
     "name": "stdout",
     "output_type": "stream",
     "text": [
      "             precision    recall  f1-score   support\n",
      "\n",
      "          0       1.00      0.93      0.96    202149\n",
      "          1       0.20      0.97      0.34      3728\n",
      "\n",
      "avg / total       0.98      0.93      0.95    205877\n",
      "\n"
     ]
    }
   ],
   "source": [
    "from sklearn.metrics import classification_report\n",
    "print(classification_report(y_test, list(map(lambda val: 1 if val > 0.5 else 0,pred))))"
   ]
  },
  {
   "cell_type": "code",
   "execution_count": null,
   "metadata": {},
   "outputs": [],
   "source": [
    "             precision    recall  f1-score   support\n",
    "\n",
    "          0       1.00      0.93      0.96    202149\n",
    "          1       0.20      0.97      0.34      3728\n",
    "\n",
    "avg / total       0.98      0.93      0.95    205877\n"
   ]
  }
 ],
 "metadata": {
  "kernelspec": {
   "display_name": "Python 3",
   "language": "python",
   "name": "python3"
  },
  "language_info": {
   "codemirror_mode": {
    "name": "ipython",
    "version": 3
   },
   "file_extension": ".py",
   "mimetype": "text/x-python",
   "name": "python",
   "nbconvert_exporter": "python",
   "pygments_lexer": "ipython3",
   "version": "3.6.5"
  }
 },
 "nbformat": 4,
 "nbformat_minor": 2
}
