{
 "cells": [
  {
   "cell_type": "code",
   "execution_count": 191,
   "metadata": {},
   "outputs": [],
   "source": [
    "import pandas as pd\n",
    "import numpy as np\n",
    "from sklearn.preprocessing import StandardScaler"
   ]
  },
  {
   "cell_type": "code",
   "execution_count": 192,
   "metadata": {},
   "outputs": [
    {
     "name": "stderr",
     "output_type": "stream",
     "text": [
      "/Users/ozalmanson/anaconda3/lib/python3.6/site-packages/IPython/core/interactiveshell.py:2728: DtypeWarning: Columns (20,21,85) have mixed types. Specify dtype option on import or set low_memory=False.\n",
      "  interactivity=interactivity, compiler=compiler, result=result)\n"
     ]
    }
   ],
   "source": [
    "data = pd.read_csv('Downloads/CSVs/Friday-WorkingHours-Afternoon-DDos.pcap_ISCX.csv')"
   ]
  },
  {
   "cell_type": "code",
   "execution_count": 193,
   "metadata": {},
   "outputs": [],
   "source": [
    "data[' Flow Packets/s'] = data[' Flow Packets/s'].astype('float64')\n",
    "data['Flow Bytes/s'] = data['Flow Bytes/s'].astype('float64')\n",
    "data[' Timestamp'] = pd.to_datetime(data[' Timestamp'], format = '%m/%d/%Y %H:%M')\n",
    "data = data.replace([np.inf, -np.inf], np.nan)"
   ]
  },
  {
   "cell_type": "code",
   "execution_count": 194,
   "metadata": {},
   "outputs": [],
   "source": [
    "src_ip_num = data[' Source IP'].str.split('.', expand = True)\n",
    "src_ip_num.columns = ['src_a', 'src_b', 'src_c','src_d']\n",
    "src_ip_num = src_ip_num.applymap(int)\n",
    "dest_ip_num = data[' Destination IP'].str.split('.', expand = True)\n",
    "dest_ip_num.columns = ['dest_a', 'dest_b', 'dest_c','dest_d']\n",
    "dest_ip_num = dest_ip_num.applymap(int)"
   ]
  },
  {
   "cell_type": "code",
   "execution_count": 195,
   "metadata": {},
   "outputs": [],
   "source": [
    "data = data.merge(dest_ip_num, left_index = True, right_index = True)\n",
    "data = data.merge(src_ip_num, left_index = True, right_index = True)"
   ]
  },
  {
   "cell_type": "code",
   "execution_count": 196,
   "metadata": {},
   "outputs": [],
   "source": [
    "data['time_diff'] = (data[' Timestamp'] - data[' Timestamp'].shift(1)).astype('timedelta64[s]')"
   ]
  },
  {
   "cell_type": "code",
   "execution_count": 197,
   "metadata": {},
   "outputs": [],
   "source": [
    "non_trainable = ['Flow ID', ' Source IP', ' Destination IP', ' Timestamp', 'External IP', ' Label']"
   ]
  },
  {
   "cell_type": "code",
   "execution_count": 249,
   "metadata": {},
   "outputs": [],
   "source": [
    "train = data[data[' Timestamp'] < '2017-07-07 04:15:00']"
   ]
  },
  {
   "cell_type": "code",
   "execution_count": 250,
   "metadata": {},
   "outputs": [],
   "source": [
    "test = data[data[' Timestamp'] >= '2017-07-07 04:15:00']"
   ]
  },
  {
   "cell_type": "code",
   "execution_count": 251,
   "metadata": {},
   "outputs": [
    {
     "data": {
      "text/plain": [
       "0.17103811823074708"
      ]
     },
     "execution_count": 251,
     "metadata": {},
     "output_type": "execute_result"
    }
   ],
   "source": [
    "len(test) / len(data)"
   ]
  },
  {
   "cell_type": "code",
   "execution_count": 252,
   "metadata": {},
   "outputs": [
    {
     "data": {
      "text/plain": [
       "4307"
      ]
     },
     "execution_count": 252,
     "metadata": {},
     "output_type": "execute_result"
    }
   ],
   "source": [
    "sum(test[' Label'].apply(lambda val: 1 if val == 'DDoS' else 0))"
   ]
  },
  {
   "cell_type": "code",
   "execution_count": 253,
   "metadata": {},
   "outputs": [],
   "source": [
    "scaler = StandardScaler()"
   ]
  },
  {
   "cell_type": "code",
   "execution_count": 254,
   "metadata": {},
   "outputs": [],
   "source": [
    "scaled_train_X = scaler.fit_transform(train[[column for column in train.columns if column not in non_trainable]].fillna(0))"
   ]
  },
  {
   "cell_type": "code",
   "execution_count": 255,
   "metadata": {},
   "outputs": [],
   "source": [
    "scaled_test_X = scaler.transform(test[[column for column in test.columns if column not in non_trainable]].fillna(0))"
   ]
  },
  {
   "cell_type": "code",
   "execution_count": 256,
   "metadata": {},
   "outputs": [],
   "source": [
    "train_Y = train[' Label'].apply(lambda val: 1 if val == 'DDoS' else 0)"
   ]
  },
  {
   "cell_type": "code",
   "execution_count": 257,
   "metadata": {},
   "outputs": [],
   "source": [
    "test_Y = test[' Label'].apply(lambda val: 1 if val == 'DDoS' else 0)"
   ]
  },
  {
   "cell_type": "code",
   "execution_count": 258,
   "metadata": {},
   "outputs": [],
   "source": [
    "scaled_train_X = scaled_train_X.reshape((scaled_train_X.shape[0], 1, scaled_train_X.shape[1]))\n",
    "scaled_test_X = scaled_test_X.reshape((scaled_test_X.shape[0], 1, scaled_test_X.shape[1]))"
   ]
  },
  {
   "cell_type": "code",
   "execution_count": null,
   "metadata": {},
   "outputs": [],
   "source": [
    "%matplotlib inline"
   ]
  },
  {
   "cell_type": "code",
   "execution_count": 273,
   "metadata": {},
   "outputs": [
    {
     "name": "stdout",
     "output_type": "stream",
     "text": [
      "Train on 187134 samples, validate on 38611 samples\n",
      "Epoch 1/50\n",
      " - 11s - loss: 0.2253 - val_loss: 0.2010\n",
      "Epoch 2/50\n",
      " - 9s - loss: 0.0984 - val_loss: 0.2382\n",
      "Epoch 3/50\n",
      " - 9s - loss: 0.0596 - val_loss: 0.3967\n",
      "Epoch 4/50\n",
      " - 9s - loss: 0.0592 - val_loss: 0.0564\n",
      "Epoch 5/50\n",
      " - 9s - loss: 0.0640 - val_loss: 0.0181\n",
      "Epoch 6/50\n",
      " - 9s - loss: 0.0683 - val_loss: 0.0185\n",
      "Epoch 7/50\n",
      " - 10s - loss: 0.0609 - val_loss: 0.0147\n",
      "Epoch 8/50\n",
      " - 11s - loss: 0.0759 - val_loss: 0.1408\n",
      "Epoch 9/50\n",
      " - 9s - loss: 0.0796 - val_loss: 0.1770\n",
      "Epoch 10/50\n",
      " - 9s - loss: 0.0654 - val_loss: 0.1812\n",
      "Epoch 11/50\n",
      " - 9s - loss: 0.0580 - val_loss: 0.0350\n",
      "Epoch 12/50\n",
      " - 9s - loss: 0.0788 - val_loss: 0.1286\n",
      "Epoch 13/50\n",
      " - 9s - loss: 0.0637 - val_loss: 0.1711\n",
      "Epoch 14/50\n",
      " - 9s - loss: 0.0579 - val_loss: 0.0298\n",
      "Epoch 15/50\n",
      " - 10s - loss: 0.0692 - val_loss: 0.1436\n",
      "Epoch 16/50\n",
      " - 10s - loss: 0.0607 - val_loss: 0.0156\n",
      "Epoch 17/50\n",
      " - 9s - loss: 0.0655 - val_loss: 0.1011\n",
      "Epoch 18/50\n",
      " - 10s - loss: 0.0631 - val_loss: 0.0277\n",
      "Epoch 19/50\n",
      " - 10s - loss: 0.0572 - val_loss: 0.0404\n",
      "Epoch 20/50\n",
      " - 9s - loss: 0.0649 - val_loss: 0.0362\n",
      "Epoch 21/50\n",
      " - 9s - loss: 0.0725 - val_loss: 0.0567\n",
      "Epoch 22/50\n",
      " - 9s - loss: 0.0642 - val_loss: 0.0391\n",
      "Epoch 23/50\n",
      " - 10s - loss: 0.0591 - val_loss: 0.0259\n",
      "Epoch 24/50\n",
      " - 9s - loss: 0.0623 - val_loss: 0.0236\n",
      "Epoch 25/50\n",
      " - 10s - loss: 0.0627 - val_loss: 0.0321\n",
      "Epoch 26/50\n",
      " - 10s - loss: 0.0678 - val_loss: 0.0347\n",
      "Epoch 27/50\n",
      " - 10s - loss: 0.0697 - val_loss: 0.0361\n",
      "Epoch 28/50\n",
      " - 10s - loss: 0.0625 - val_loss: 0.0432\n",
      "Epoch 29/50\n",
      " - 10s - loss: 0.0564 - val_loss: 0.0353\n",
      "Epoch 30/50\n",
      " - 10s - loss: 0.0575 - val_loss: 0.0436\n",
      "Epoch 31/50\n",
      " - 10s - loss: 0.0706 - val_loss: 0.0384\n",
      "Epoch 32/50\n",
      " - 10s - loss: 0.0654 - val_loss: 0.0408\n",
      "Epoch 33/50\n",
      " - 11s - loss: 0.0587 - val_loss: 0.0429\n",
      "Epoch 34/50\n",
      " - 11s - loss: 0.0696 - val_loss: 0.0462\n",
      "Epoch 35/50\n",
      " - 10s - loss: 0.0688 - val_loss: 0.0391\n",
      "Epoch 36/50\n",
      " - 10s - loss: 0.0733 - val_loss: 0.0411\n",
      "Epoch 37/50\n",
      " - 10s - loss: 0.0634 - val_loss: 0.0413\n",
      "Epoch 38/50\n",
      " - 10s - loss: 0.0684 - val_loss: 0.0436\n",
      "Epoch 39/50\n",
      " - 10s - loss: 0.0724 - val_loss: 0.0566\n",
      "Epoch 40/50\n",
      " - 11s - loss: 0.0607 - val_loss: 0.0375\n",
      "Epoch 41/50\n",
      " - 10s - loss: 0.0626 - val_loss: 0.0437\n",
      "Epoch 42/50\n",
      " - 9s - loss: 0.0633 - val_loss: 0.0444\n",
      "Epoch 43/50\n",
      " - 10s - loss: 0.0628 - val_loss: 0.0418\n",
      "Epoch 44/50\n",
      " - 11s - loss: 0.0579 - val_loss: 0.0411\n",
      "Epoch 45/50\n",
      " - 10s - loss: 0.0714 - val_loss: 0.0437\n",
      "Epoch 46/50\n",
      " - 10s - loss: 0.0633 - val_loss: 0.0417\n",
      "Epoch 47/50\n",
      " - 12s - loss: 0.0610 - val_loss: 0.0435\n",
      "Epoch 48/50\n",
      " - 12s - loss: 0.0601 - val_loss: 0.0397\n",
      "Epoch 49/50\n",
      " - 10s - loss: 0.0625 - val_loss: 0.0463\n",
      "Epoch 50/50\n",
      " - 10s - loss: 0.0566 - val_loss: 0.0388\n"
     ]
    },
    {
     "data": {
      "image/png": "[encoded data removed]",
      "text/plain": [
       "<matplotlib.figure.Figure at 0x166702b70>"
      ]
     },
     "metadata": {},
     "output_type": "display_data"
    }
   ],
   "source": [
    "from keras.models import Sequential\n",
    "from keras.layers import Dense, Activation\n",
    "from keras.layers import LSTM\n",
    "from matplotlib import pyplot\n",
    "# design network\n",
    "model = Sequential()\n",
    "model.add(LSTM(64, input_shape=(scaled_train_X.shape[1], scaled_train_X.shape[2])))\n",
    "model.add(Dense(32, activation = 'relu'))\n",
    "#model.add(Dense(32, activation = 'relu'))\n",
    "model.add(Dense(1,  activation='sigmoid'))\n",
    "model.compile(loss='binary_crossentropy', optimizer='adam')\n",
    "# fit network\n",
    "history = model.fit(scaled_train_X, train_Y, epochs=50, batch_size=72, validation_data=(scaled_test_X, test_Y), verbose=2, shuffle=False)\n",
    "# plot history\n",
    "pyplot.plot(history.history['loss'], label='train')\n",
    "pyplot.plot(history.history['val_loss'], label='test')\n",
    "pyplot.legend()\n",
    "pyplot.show()"
   ]
  },
  {
   "cell_type": "code",
   "execution_count": 274,
   "metadata": {},
   "outputs": [
    {
     "name": "stderr",
     "output_type": "stream",
     "text": [
      "/Users/ozalmanson/anaconda3/lib/python3.6/site-packages/ipykernel_launcher.py:1: SettingWithCopyWarning: \n",
      "A value is trying to be set on a copy of a slice from a DataFrame.\n",
      "Try using .loc[row_indexer,col_indexer] = value instead\n",
      "\n",
      "See the caveats in the documentation: http://pandas.pydata.org/pandas-docs/stable/indexing.html#indexing-view-versus-copy\n",
      "  \"\"\"Entry point for launching an IPython kernel.\n"
     ]
    }
   ],
   "source": [
    "test['pred'] = model.predict(scaled_test_X)"
   ]
  },
  {
   "cell_type": "code",
   "execution_count": null,
   "metadata": {},
   "outputs": [],
   "source": []
  }
 ],
 "metadata": {
  "kernelspec": {
   "display_name": "Python 3",
   "language": "python",
   "name": "python3"
  },
  "language_info": {
   "codemirror_mode": {
    "name": "ipython",
    "version": 3
   },
   "file_extension": ".py",
   "mimetype": "text/x-python",
   "name": "python",
   "nbconvert_exporter": "python",
   "pygments_lexer": "ipython3",
   "version": "3.6.4"
  }
 },
 "nbformat": 4,
 "nbformat_minor": 2
}
